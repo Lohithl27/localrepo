{
  "nbformat": 4,
  "nbformat_minor": 0,
  "metadata": {
    "colab": {
      "provenance": [],
      "include_colab_link": true
    },
    "kernelspec": {
      "name": "python3",
      "display_name": "Python 3"
    },
    "language_info": {
      "name": "python"
    }
  },
  "cells": [
    {
      "cell_type": "markdown",
      "metadata": {
        "id": "view-in-github",
        "colab_type": "text"
      },
      "source": [
        "<a href=\"https://colab.research.google.com/github/Lohithl27/localrepo/blob/main/Python_basic_from_R_%26_AI_class.ipynb\" target=\"_parent\"><img src=\"https://colab.research.google.com/assets/colab-badge.svg\" alt=\"Open In Colab\"/></a>"
      ]
    },
    {
      "cell_type": "markdown",
      "source": [
        "# Google Colab\n",
        "\n",
        "> It is an online platform suitable for collaborative Python coding\n",
        "\n"
      ],
      "metadata": {
        "id": "rBDXCVTEVUl_"
      }
    },
    {
      "cell_type": "markdown",
      "source": [
        "## A variable is a reference to a value stored in memory."
      ],
      "metadata": {
        "id": "aEkogSSRJJdk"
      }
    },
    {
      "cell_type": "code",
      "execution_count": null,
      "metadata": {
        "id": "wgQNvw0I3SSb",
        "colab": {
          "base_uri": "https://localhost:8080/"
        },
        "outputId": "6cc5c980-b870-4968-c98a-50e669d81c4e"
      },
      "outputs": [
        {
          "output_type": "stream",
          "name": "stdout",
          "text": [
            "70\n"
          ]
        }
      ],
      "source": [
        "marks = 70\n",
        "# Here \"marks\" is a variable\n",
        "print (marks)"
      ]
    },
    {
      "cell_type": "markdown",
      "source": [
        "\n",
        "\n",
        "---\n",
        "\n"
      ],
      "metadata": {
        "id": "_GNaWreJay9P"
      }
    },
    {
      "cell_type": "markdown",
      "source": [
        "## Data Types"
      ],
      "metadata": {
        "id": "BSi06-JvW2xq"
      }
    },
    {
      "cell_type": "markdown",
      "source": [
        "### Integer\n",
        "\n",
        "> An integer is a whole number, positive or negative, without a decimal point.\n",
        "\n"
      ],
      "metadata": {
        "id": "yzTKumGiPQ66"
      }
    },
    {
      "cell_type": "code",
      "source": [
        "legs = 4\n",
        "b = -5\n",
        "print(\"Type of a:\", type(legs))\n",
        "print(\"Type of b:\", type(b))"
      ],
      "metadata": {
        "colab": {
          "base_uri": "https://localhost:8080/"
        },
        "id": "QyvWChk2PPRK",
        "outputId": "0f0e093e-4cd6-4f55-9cbe-2c0b32757dc1"
      },
      "execution_count": null,
      "outputs": [
        {
          "output_type": "stream",
          "name": "stdout",
          "text": [
            "Type of a: <class 'int'>\n",
            "Type of b: <class 'int'>\n"
          ]
        }
      ]
    },
    {
      "cell_type": "markdown",
      "source": [
        "### Float\n",
        "\n",
        "> A float is a number that has a decimal point. It's used when we need more precision.\n",
        "\n"
      ],
      "metadata": {
        "id": "xbWQk2anPzVM"
      }
    },
    {
      "cell_type": "code",
      "source": [
        "pi = 3.14\n",
        "height = -172.5\n",
        "print(\"Type of pi:\", type(pi))\n",
        "print(\"Type of height:\", type(height))"
      ],
      "metadata": {
        "colab": {
          "base_uri": "https://localhost:8080/"
        },
        "id": "4XYxPTD5P7oV",
        "outputId": "79e86cc3-8829-43b9-f8e9-a329127528d6"
      },
      "execution_count": null,
      "outputs": [
        {
          "output_type": "stream",
          "name": "stdout",
          "text": [
            "Type of pi: <class 'float'>\n",
            "Type of height: <class 'float'>\n"
          ]
        }
      ]
    },
    {
      "cell_type": "markdown",
      "source": [
        "### Complex Number\n",
        "\n",
        "> Python natively supports complex numbers, where j is used to represent the imaginary part.\n",
        "\n"
      ],
      "metadata": {
        "id": "IJkOYRu1QAfl"
      }
    },
    {
      "cell_type": "code",
      "source": [
        "z = 3 + 4j\n",
        "print(\"Complex number z:\", z)\n",
        "print(\"Real part:\", z.real)\n",
        "print(\"Imaginary part:\", z.imag)"
      ],
      "metadata": {
        "colab": {
          "base_uri": "https://localhost:8080/"
        },
        "id": "65plbLRBQD72",
        "outputId": "561d93fc-0e0d-432a-a1cf-1e354bb9b815"
      },
      "execution_count": null,
      "outputs": [
        {
          "output_type": "stream",
          "name": "stdout",
          "text": [
            "Complex number z: (3+4j)\n",
            "Real part: 3.0\n",
            "Imaginary part: 4.0\n"
          ]
        }
      ]
    },
    {
      "cell_type": "markdown",
      "source": [
        "### List\n",
        "\n",
        "> A list is an ordered, mutable collection that can hold items of different types.\n",
        "\n"
      ],
      "metadata": {
        "id": "ZTtwIX6NQwm6"
      }
    },
    {
      "cell_type": "code",
      "source": [
        "fruits = [\"apple\", \"banana\", \"cherry\"]\n",
        "fruits.append(\"orange\")\n",
        "print(fruits[1])  # banana\n",
        "fruits[1] = \"mango\"\n",
        "print(fruits)"
      ],
      "metadata": {
        "colab": {
          "base_uri": "https://localhost:8080/"
        },
        "id": "HEbW32O9Qy46",
        "outputId": "8170aaa3-81ad-4bf6-cdc0-4de653721e76"
      },
      "execution_count": null,
      "outputs": [
        {
          "output_type": "stream",
          "name": "stdout",
          "text": [
            "banana\n",
            "['apple', 'mango', 'cherry', 'orange']\n"
          ]
        }
      ]
    },
    {
      "cell_type": "markdown",
      "source": [
        "### Tuple\n",
        "\n",
        "> A tuple is similar to a list, but it's unchangable. That means once created, it can't be modified.\n",
        "\n"
      ],
      "metadata": {
        "id": "a8hH7f3sQ2GS"
      }
    },
    {
      "cell_type": "code",
      "source": [
        "coordinates = (10, 20)\n",
        "print(\"second value:\", coordinates[1])"
      ],
      "metadata": {
        "colab": {
          "base_uri": "https://localhost:8080/"
        },
        "id": "fOKlVNwKQ5vz",
        "outputId": "5f0feb30-b586-4aa6-da2d-2bb405963921"
      },
      "execution_count": null,
      "outputs": [
        {
          "output_type": "stream",
          "name": "stdout",
          "text": [
            "second value: 20\n"
          ]
        }
      ]
    },
    {
      "cell_type": "markdown",
      "source": [
        "### Dictionary\n",
        "\n",
        "> A dictionary stores data in key-value pairs. It’s very useful for structured data\n"
      ],
      "metadata": {
        "id": "nM4y_q8aREx8"
      }
    },
    {
      "cell_type": "code",
      "source": [
        "spot1 = {\"name\": \"John\", \"battery\": 25, \"distance\": 893}\n",
        "\n",
        "spot2 = {\"name\": \"Jim\", \"battery\": 21, \"distance\": 83}\n",
        "\n",
        "print(spot1)\n"
      ],
      "metadata": {
        "id": "YQxr4j9UROHl",
        "colab": {
          "base_uri": "https://localhost:8080/"
        },
        "outputId": "ab28cc44-2dc6-4175-b0d4-b2966908277c"
      },
      "execution_count": null,
      "outputs": [
        {
          "output_type": "stream",
          "name": "stdout",
          "text": [
            "{'name': 'John', 'battery': 25, 'distance': 893}\n"
          ]
        }
      ]
    },
    {
      "cell_type": "markdown",
      "source": [
        "### Boolean\n",
        "\n",
        "> A Boolean can only be True or False. It’s often used in condition checking.\n",
        "\n"
      ],
      "metadata": {
        "id": "yEI48axjRRJ9"
      }
    },
    {
      "cell_type": "code",
      "source": [
        "is_adult = True\n",
        "has_permission = False\n",
        "print(is_adult and has_permission)\n",
        "print(is_adult or has_permission)"
      ],
      "metadata": {
        "id": "d4hfXJELRZAP",
        "colab": {
          "base_uri": "https://localhost:8080/"
        },
        "outputId": "5091dcdb-33d1-4d60-ff4d-fe45ce4e5148"
      },
      "execution_count": null,
      "outputs": [
        {
          "output_type": "stream",
          "name": "stdout",
          "text": [
            "False\n",
            "True\n"
          ]
        }
      ]
    },
    {
      "cell_type": "markdown",
      "source": [
        "### Set\n",
        "\n",
        "> A set is an unordered collection of unique elements. It removes duplicates automatically.\n",
        "\n"
      ],
      "metadata": {
        "id": "sMfDZgPeRfe_"
      }
    },
    {
      "cell_type": "code",
      "source": [
        "unique_numbers = {1, 2, 3, 3, 4}\n",
        "print(unique_numbers)\n",
        "\n",
        "# # Set operations\n",
        "# a = {1, 2, 3}\n",
        "# b = {3, 4, 5}\n",
        "# print(\"Union:\", a | b)\n",
        "# print(\"Intersection:\", a & b)"
      ],
      "metadata": {
        "id": "rkQf9_bORsta",
        "colab": {
          "base_uri": "https://localhost:8080/"
        },
        "outputId": "e11d906f-f4dd-4733-f1d7-4b1a25485f5b"
      },
      "execution_count": null,
      "outputs": [
        {
          "output_type": "stream",
          "name": "stdout",
          "text": [
            "{1, 2, 3, 4}\n"
          ]
        }
      ]
    },
    {
      "cell_type": "markdown",
      "source": [
        "### String\n",
        "\n",
        "> A string is a sequence of characters enclosed in single or double quotes.\n",
        "\n"
      ],
      "metadata": {
        "id": "LqeiQCqGQGnV"
      }
    },
    {
      "cell_type": "code",
      "source": [
        "name = \"Alice\"\n",
        "greeting = 'Hello, World!'\n",
        "print(name.upper())\n",
        "print(greeting.lower())\n",
        "print(\"Length of greeting:\", len(greeting))"
      ],
      "metadata": {
        "id": "P_7oxvSsQnFQ",
        "colab": {
          "base_uri": "https://localhost:8080/"
        },
        "outputId": "b3ccfee1-e667-4ac6-df71-156dee1e36e0"
      },
      "execution_count": null,
      "outputs": [
        {
          "output_type": "stream",
          "name": "stdout",
          "text": [
            "ALICE\n",
            "hello, world!\n",
            "Length of greeting: 13\n"
          ]
        }
      ]
    },
    {
      "cell_type": "markdown",
      "source": [
        "### Sequence Types\n",
        "> Lists, tuples, and strings are called sequence types because they store items in an ordered way and support indexing and slicing.\n",
        "\n"
      ],
      "metadata": {
        "id": "kIUNffIWR8uj"
      }
    },
    {
      "cell_type": "code",
      "source": [
        "# String sequence\n",
        "text = \"Python\"\n",
        "print(text[0])       # 'P'\n",
        "print(text[2:5])     # 'tho'\n",
        "\n",
        "# List sequence\n",
        "colors = [\"red\", \"green\", \"blue\"]\n",
        "print(colors[-1])    # 'blue'\n",
        "\n",
        "# Tuple sequence\n",
        "dimensions = (10, 20, 30)\n",
        "print(dimensions[1:])  # (20, 30)"
      ],
      "metadata": {
        "id": "wjDPSrGYUUCf",
        "colab": {
          "base_uri": "https://localhost:8080/"
        },
        "outputId": "32e48a18-d62a-4d49-bad6-01ccd0024888"
      },
      "execution_count": null,
      "outputs": [
        {
          "output_type": "stream",
          "name": "stdout",
          "text": [
            "P\n",
            "tho\n",
            "blue\n",
            "(20, 30)\n"
          ]
        }
      ]
    },
    {
      "cell_type": "markdown",
      "source": [
        "## Loops\n",
        "\n",
        "> Loops help us automate repetitive tasks. We’ll look at for loops for iterating over sequences, and while loops for executing as long as a condition holds.\n",
        "\n"
      ],
      "metadata": {
        "id": "T1hrCAZJj5RK"
      }
    },
    {
      "cell_type": "markdown",
      "source": [
        "### For loop\n",
        "\n",
        "> This loop goes through each task in the list and prints it. task is a temporary variable that holds each value during the loop.\n",
        "\n"
      ],
      "metadata": {
        "id": "Uw6vZqTekAxe"
      }
    },
    {
      "cell_type": "code",
      "source": [
        "at_start = [\"Check battery\", \"Check sensor\", \"Wait for instruction\"]\n",
        "\n",
        "for task in at_start:\n",
        "    print(\"Task:\", at_start)"
      ],
      "metadata": {
        "id": "959RR8jokWib",
        "colab": {
          "base_uri": "https://localhost:8080/"
        },
        "outputId": "d359ef91-2ea8-40d3-fc5d-92c309dbe954"
      },
      "execution_count": null,
      "outputs": [
        {
          "output_type": "stream",
          "name": "stdout",
          "text": [
            "Task: ['Check battery', 'Check sensor', 'Wait for instruction']\n",
            "Task: ['Check battery', 'Check sensor', 'Wait for instruction']\n",
            "Task: ['Check battery', 'Check sensor', 'Wait for instruction']\n"
          ]
        }
      ]
    },
    {
      "cell_type": "markdown",
      "source": [
        "### While loop\n",
        "\n",
        "> This loop runs as long as the count is greater than 0. It decreases the value each time. Once the condition is false, it exits.\"\n",
        "\n"
      ],
      "metadata": {
        "id": "3fsOw_EckYSa"
      }
    },
    {
      "cell_type": "code",
      "source": [
        "count = 5\n",
        "while count > 2:\n",
        "    print(\"Counting down:\", count)\n",
        "    count -= 1\n",
        "\n",
        "print(\"Liftoff!\")"
      ],
      "metadata": {
        "id": "SveIK1Dbkkb3",
        "colab": {
          "base_uri": "https://localhost:8080/"
        },
        "outputId": "527675ac-e151-4342-db4c-4e783d10f7c0"
      },
      "execution_count": null,
      "outputs": [
        {
          "output_type": "stream",
          "name": "stdout",
          "text": [
            "Counting down: 5\n",
            "Counting down: 4\n",
            "Counting down: 3\n",
            "Liftoff!\n"
          ]
        }
      ]
    },
    {
      "cell_type": "markdown",
      "source": [
        "## Arithmetic Operators\n",
        "\n",
        "> Arithmetic operators help us perform basic mathematical operations. Let’s look at common ones with examples.\n",
        "\n"
      ],
      "metadata": {
        "id": "oyDAw7y8kpSD"
      }
    },
    {
      "cell_type": "markdown",
      "source": [
        "| Operator | Meaning             | Example Code     | Output |\n",
        "| -------- | ------------------- | ---------------- | ------ |\n",
        "| `+`      | Addition            | `print(3 + 2)`   | 5      |\n",
        "| `-`      | Subtraction         | `print(10 - 7)`  | 3      |\n",
        "| `*`      | Multiplication      | `print(4 * 5)`   | 20     |\n",
        "| `/`      | Division            | `print(10 / 2)`  | 5.0    |\n",
        "| `//`     | Floor Division      | `print(10 // 3)` | 3      |\n",
        "| `%`      | Modulus (Remainder) | `print(10 % 3)`  | 1      |\n",
        "| `**`     | Exponentiation      | `print(2 ** 3)`  | 8      |\n"
      ],
      "metadata": {
        "id": "MBkDJWadk8oE"
      }
    },
    {
      "cell_type": "code",
      "source": [
        "price = 250\n",
        "tax_rate = 0.18\n",
        "total_price = price + (price * tax_rate)\n",
        "print(\"Total Price with Tax:\", total_price)"
      ],
      "metadata": {
        "id": "jdO8jB5ulGn8",
        "colab": {
          "base_uri": "https://localhost:8080/"
        },
        "outputId": "439532d3-e0d5-4f32-d015-509d8c1ffea0"
      },
      "execution_count": null,
      "outputs": [
        {
          "output_type": "stream",
          "name": "stdout",
          "text": [
            "Total Price with Tax: 295.0\n"
          ]
        }
      ]
    },
    {
      "cell_type": "markdown",
      "source": [
        "## Logical Operators\n",
        "\n",
        "> Logical operators let us combine multiple conditions. They're often used in decision-making.\n",
        "\n"
      ],
      "metadata": {
        "id": "yopsAGUolH9v"
      }
    },
    {
      "cell_type": "markdown",
      "source": [
        "### And\n",
        "\n",
        "> 'and' makes sure both conditions are true. If either fails, the result is false.\n",
        "\n"
      ],
      "metadata": {
        "id": "dhvbf9R2lXY9"
      }
    },
    {
      "cell_type": "code",
      "source": [
        "username = \"admin\"\n",
        "password = \"1234\"\n",
        "key = \"AD3r3rd\"\n",
        "\n",
        "age = 20\n",
        "\n",
        "if username == \"admin\" and password == \"1234\" and key == \"AD3r3rd\" or age == 18:\n",
        "    print(\"Login successful\")\n",
        "else:\n",
        "    print(\"Invalid credentials\")"
      ],
      "metadata": {
        "id": "2WpF3sZhlfgo",
        "colab": {
          "base_uri": "https://localhost:8080/"
        },
        "outputId": "9989d29b-4f8a-4df7-cebd-0ddadc400bd3"
      },
      "execution_count": null,
      "outputs": [
        {
          "output_type": "stream",
          "name": "stdout",
          "text": [
            "Login successful\n"
          ]
        }
      ]
    },
    {
      "cell_type": "markdown",
      "source": [
        "### Or\n",
        "\n",
        "> 'or' checks if at least one condition is true.\n"
      ],
      "metadata": {
        "id": "eHceu-eqlk0a"
      }
    },
    {
      "cell_type": "code",
      "source": [
        "age = 16\n",
        "\n",
        "if age < 18 or age > 65:\n",
        "    print(\"Eligible for discount\")\n",
        "else:\n",
        "    print(\"No discount\")"
      ],
      "metadata": {
        "id": "ArvrWM7xlxd3",
        "colab": {
          "base_uri": "https://localhost:8080/"
        },
        "outputId": "aea4b10c-2815-45b7-e15a-f1d3b51c4bbf"
      },
      "execution_count": null,
      "outputs": [
        {
          "output_type": "stream",
          "name": "stdout",
          "text": [
            "Eligible for discount\n"
          ]
        }
      ]
    },
    {
      "cell_type": "markdown",
      "source": [
        "### Not\n",
        "\n",
        "> 'not' reverses the condition. If is_blocked is False, not False becomes True.\n",
        "\n"
      ],
      "metadata": {
        "id": "tt0DglD8l4hC"
      }
    },
    {
      "cell_type": "code",
      "source": [
        "is_blocked = False\n",
        "\n",
        "if not is_blocked:\n",
        "    print(\"Access granted\")\n",
        "else:\n",
        "    print(\"Access denied\")"
      ],
      "metadata": {
        "id": "WutJ7c_HmDoP",
        "colab": {
          "base_uri": "https://localhost:8080/"
        },
        "outputId": "b25bd3b2-3408-4bff-b6d5-fa202fe65f66"
      },
      "execution_count": null,
      "outputs": [
        {
          "output_type": "stream",
          "name": "stdout",
          "text": [
            "Access granted\n"
          ]
        }
      ]
    },
    {
      "cell_type": "markdown",
      "source": [
        "## Comparison Operators\n",
        "\n",
        "> Comparison operators allow us to compare values. They're often used in conditional statements like if or loops.\n",
        "\n"
      ],
      "metadata": {
        "id": "DFdWkRtxmb4C"
      }
    },
    {
      "cell_type": "markdown",
      "source": [
        "| Operator | Meaning          | Example  | Result  |\n",
        "| -------- | ---------------- | -------- | ------- |\n",
        "| `==`     | Equal to         | `3 == 3` | `True`  |\n",
        "| `!=`     | Not equal to     | `4 != 5` | `True`  |\n",
        "| `>`      | Greater than     | `10 > 3` | `True`  |\n",
        "| `<`      | Less than        | `5 < 2`  | `False` |\n",
        "| `>=`     | Greater or equal | `7 >= 7` | `True`  |\n",
        "| `<=`     | Less or equal    | `8 <= 6` | `False` |\n"
      ],
      "metadata": {
        "id": "PHz1ldh3mkNn"
      }
    },
    {
      "cell_type": "code",
      "source": [
        "marks = 85\n",
        "\n",
        "if marks >= 90:\n",
        "    print(\"Grade: A\")\n",
        "elif marks >= 75:\n",
        "    print(\"Grade: B\")\n",
        "else:\n",
        "    print(\"Grade: C\")"
      ],
      "metadata": {
        "id": "5PjTO7L9mm83"
      },
      "execution_count": null,
      "outputs": []
    },
    {
      "cell_type": "markdown",
      "source": [
        "## Built-In Functions\n",
        "\n",
        "> Function is a reusable block of code that performs a specific task\n",
        "\n"
      ],
      "metadata": {
        "id": "hRA0VOPHm0XR"
      }
    },
    {
      "cell_type": "markdown",
      "source": [
        "### len()\n",
        "\n",
        "> Returns the number of items in a collection like a list, string, or dictionary.\n",
        "\n"
      ],
      "metadata": {
        "id": "soYE7zJgnYxD"
      }
    },
    {
      "cell_type": "code",
      "source": [
        "name = \"OpenAI\"\n",
        "print(\"Length of name:\", len(name))\n",
        "\n",
        "fruits = [\"apple\", \"banana\", \"cherry\"]\n",
        "print(\"Number of fruits:\", len(fruits))"
      ],
      "metadata": {
        "id": "KuPiebnpnh8S",
        "colab": {
          "base_uri": "https://localhost:8080/"
        },
        "outputId": "f8c4ec46-38f9-4906-f42a-89100da7a9c0"
      },
      "execution_count": null,
      "outputs": [
        {
          "output_type": "stream",
          "name": "stdout",
          "text": [
            "Length of name: 6\n",
            "Number of fruits: 3\n"
          ]
        }
      ]
    },
    {
      "cell_type": "markdown",
      "source": [
        "### pop()\n",
        "\n",
        "> Removes and returns an item at a given index (default: last item) from a list.\n",
        "\n"
      ],
      "metadata": {
        "id": "MGCKQIb0nj9W"
      }
    },
    {
      "cell_type": "code",
      "source": [
        "numbers = [10, 20, 30, 40]\n",
        "last_number = numbers.pop()\n",
        "print(\"Popped number:\", last_number)\n",
        "print(\"Remaining list:\", numbers)"
      ],
      "metadata": {
        "id": "fim--iuunrwX",
        "colab": {
          "base_uri": "https://localhost:8080/"
        },
        "outputId": "5c8e771a-a4c0-42fc-bec9-d7ab5587539d"
      },
      "execution_count": null,
      "outputs": [
        {
          "output_type": "stream",
          "name": "stdout",
          "text": [
            "Popped number: 40\n",
            "Remaining list: [10, 20, 30]\n"
          ]
        }
      ]
    },
    {
      "cell_type": "markdown",
      "source": [
        "### append()\n",
        "\n",
        "> Adds an item to the end of a list.\n",
        "\n"
      ],
      "metadata": {
        "id": "k8YmZikQntkF"
      }
    },
    {
      "cell_type": "code",
      "source": [
        "students = [\"Alice\", \"Bob\"]\n",
        "students.append(\"Charlie\")\n",
        "print(\"Updated list:\", students)"
      ],
      "metadata": {
        "id": "5LISDlF6oDJn",
        "colab": {
          "base_uri": "https://localhost:8080/"
        },
        "outputId": "d40f58a3-bcf2-47ef-8115-2c0b98980802"
      },
      "execution_count": null,
      "outputs": [
        {
          "output_type": "stream",
          "name": "stdout",
          "text": [
            "Updated list: ['Alice', 'Bob', 'Charlie']\n"
          ]
        }
      ]
    },
    {
      "cell_type": "markdown",
      "source": [
        "### type()\n",
        "\n",
        "> Returns the type of a variable.\n",
        "\n"
      ],
      "metadata": {
        "id": "T92BpfZ9oKZb"
      }
    },
    {
      "cell_type": "code",
      "source": [
        "x = 42\n",
        "print(\"Type of x:\", type(x))\n",
        "\n",
        "y = [1, 2, 3]\n",
        "print(\"Type of y:\", type(y))"
      ],
      "metadata": {
        "id": "1t258OIToOvX",
        "colab": {
          "base_uri": "https://localhost:8080/"
        },
        "outputId": "382d83c1-9a8e-4fcf-a5ce-c1b0b0fcfad1"
      },
      "execution_count": null,
      "outputs": [
        {
          "output_type": "stream",
          "name": "stdout",
          "text": [
            "Type of x: <class 'int'>\n",
            "Type of y: <class 'list'>\n"
          ]
        }
      ]
    },
    {
      "cell_type": "markdown",
      "source": [
        "### sorted()\n",
        "\n",
        "> Returns a sorted version of a list.\n",
        "\n"
      ],
      "metadata": {
        "id": "7YquIbBjoSRC"
      }
    },
    {
      "cell_type": "code",
      "source": [
        "# scores = [87, 56, 99, 45]\n",
        "# print(\"Sorted Scores:\", sorted(scores))\n",
        "\n",
        "names = [\"sum\", \"stings\", \"max\"]\n",
        "sorted_names = sorted(names,key=len, reverse= True)\n",
        "print(sorted_names)"
      ],
      "metadata": {
        "id": "USyZBjT8oXKi",
        "colab": {
          "base_uri": "https://localhost:8080/"
        },
        "outputId": "b21c5ae3-282c-433e-b7ae-3831d34cdd79"
      },
      "execution_count": null,
      "outputs": [
        {
          "output_type": "stream",
          "name": "stdout",
          "text": [
            "['stings', 'sum', 'max']\n"
          ]
        }
      ]
    },
    {
      "cell_type": "markdown",
      "source": [
        "### sum()\n",
        "\n",
        "> Adds all numeric items in a list.\n",
        "\n"
      ],
      "metadata": {
        "id": "vOEXu5sEoeQ-"
      }
    },
    {
      "cell_type": "code",
      "source": [
        "expenses = [1200, 800, 950]\n",
        "total = sum(expenses)\n",
        "print(\"Total Expenses:\", total)"
      ],
      "metadata": {
        "id": "FlXPbd7UojL0",
        "colab": {
          "base_uri": "https://localhost:8080/"
        },
        "outputId": "14e9e786-8b68-4797-85b2-afbeba0e86da"
      },
      "execution_count": null,
      "outputs": [
        {
          "output_type": "stream",
          "name": "stdout",
          "text": [
            "Total Expenses: 2950\n"
          ]
        }
      ]
    },
    {
      "cell_type": "markdown",
      "source": [
        "### max() and min()\n",
        "\n",
        "> Returns the largest or smallest value in a list.\n",
        "\n"
      ],
      "metadata": {
        "id": "Igc36eacop9K"
      }
    },
    {
      "cell_type": "code",
      "source": [
        "temperatures = [32, 28, 35, 30]\n",
        "print(\"Max temp:\", max(temperatures))\n",
        "print(\"Min temp:\", min(temperatures))"
      ],
      "metadata": {
        "id": "TApgHTcWouIi",
        "colab": {
          "base_uri": "https://localhost:8080/"
        },
        "outputId": "e0e66475-c878-429c-b5d9-e727ecf88229"
      },
      "execution_count": null,
      "outputs": [
        {
          "output_type": "stream",
          "name": "stdout",
          "text": [
            "Max temp: 35\n",
            "Min temp: 28\n"
          ]
        }
      ]
    },
    {
      "cell_type": "markdown",
      "source": [
        "## String Functions\n"
      ],
      "metadata": {
        "id": "F1B5P3_ftP4r"
      }
    },
    {
      "cell_type": "markdown",
      "source": [
        "### upper() / lower() / title()"
      ],
      "metadata": {
        "id": "wVA2E5XEtm7A"
      }
    },
    {
      "cell_type": "code",
      "source": [
        "s = \"hello world\"\n",
        "print(s.upper())   # HELLO WORLD\n",
        "print(s.lower())   # hello world\n",
        "print(s.title())   # Hello World"
      ],
      "metadata": {
        "id": "4B1pYe-ots-E"
      },
      "execution_count": null,
      "outputs": []
    },
    {
      "cell_type": "markdown",
      "source": [
        "### strip() / lstrip() / rstrip()"
      ],
      "metadata": {
        "id": "OCBr5Xh6tu5d"
      }
    },
    {
      "cell_type": "code",
      "source": [
        "s = \"   Hello   \"\n",
        "print(s.strip())   # \"Hello\"\n",
        "print(s.lstrip())  # \"Hello   \"\n",
        "print(s.rstrip())  # \"   Hello\""
      ],
      "metadata": {
        "id": "HSZT6yfjtybh",
        "colab": {
          "base_uri": "https://localhost:8080/"
        },
        "outputId": "4a7f9f2c-cd9a-4299-e6cc-b8326e8832d3"
      },
      "execution_count": null,
      "outputs": [
        {
          "output_type": "stream",
          "name": "stdout",
          "text": [
            "Hello\n",
            "Hello   \n",
            "   Hello\n"
          ]
        }
      ]
    },
    {
      "cell_type": "markdown",
      "source": [
        "### replace()"
      ],
      "metadata": {
        "id": "JfyULfmEt48E"
      }
    },
    {
      "cell_type": "code",
      "source": [
        "text = \"I love Java\"\n",
        "print(text.replace(\"Java\", \"Python\"))  # I love Python"
      ],
      "metadata": {
        "id": "60achzByt5-E",
        "colab": {
          "base_uri": "https://localhost:8080/"
        },
        "outputId": "0fddcd44-2664-4c88-a8ee-fd8f1105df47"
      },
      "execution_count": null,
      "outputs": [
        {
          "output_type": "stream",
          "name": "stdout",
          "text": [
            "I love Python\n"
          ]
        }
      ]
    },
    {
      "cell_type": "markdown",
      "source": [
        "### find() / index()"
      ],
      "metadata": {
        "id": "JqG0JaqAt90k"
      }
    },
    {
      "cell_type": "code",
      "source": [
        "msg = \"machine learning\"\n",
        "print(msg.find(\"learn\"))   # 8\n",
        "print(msg.index(\"machine\")) # 0"
      ],
      "metadata": {
        "id": "A_jPp80Mt-4c",
        "colab": {
          "base_uri": "https://localhost:8080/"
        },
        "outputId": "a3df5bb6-6d46-4a35-e184-ca1e503a7526"
      },
      "execution_count": null,
      "outputs": [
        {
          "output_type": "stream",
          "name": "stdout",
          "text": [
            "8\n",
            "0\n"
          ]
        }
      ]
    },
    {
      "cell_type": "markdown",
      "source": [
        "### split() / join()"
      ],
      "metadata": {
        "id": "FU-0gisquT_S"
      }
    },
    {
      "cell_type": "code",
      "source": [
        "data = \"name,age,city\"\n",
        "parts = data.split(\",\")\n",
        "print(parts)  # ['name', 'age', 'city']\n",
        "\n",
        "joined = \"-\".join(parts)\n",
        "print(joined) # name-age-city"
      ],
      "metadata": {
        "id": "XbJStUbCuVYP",
        "colab": {
          "base_uri": "https://localhost:8080/"
        },
        "outputId": "0a15643c-86ee-4738-ebf9-1ba7c8745a6b"
      },
      "execution_count": null,
      "outputs": [
        {
          "output_type": "stream",
          "name": "stdout",
          "text": [
            "['name', 'age', 'city']\n",
            "name-age-city\n"
          ]
        }
      ]
    },
    {
      "cell_type": "markdown",
      "source": [
        "### startswith() / endswith()"
      ],
      "metadata": {
        "id": "9C32k64quaoC"
      }
    },
    {
      "cell_type": "code",
      "source": [
        "filename = \"report.pdf\"\n",
        "print(filename.endswith(\".pdf\"))  # True\n",
        "print(filename.startswith(\"rep\")) # True"
      ],
      "metadata": {
        "id": "XWMwDOb7ub2D",
        "colab": {
          "base_uri": "https://localhost:8080/"
        },
        "outputId": "104f364b-16bd-468a-ca6d-afefcdddc1bf"
      },
      "execution_count": null,
      "outputs": [
        {
          "output_type": "stream",
          "name": "stdout",
          "text": [
            "True\n",
            "True\n"
          ]
        }
      ]
    },
    {
      "cell_type": "markdown",
      "source": [
        "### Concatenate\n",
        "\n",
        "> In Python, you can join two or more strings using the + operator.\n",
        "Here, we’re combining str1 and str2 with a space in between to form one complete string.\n",
        "\n"
      ],
      "metadata": {
        "id": "oxjWrU2KPw01"
      }
    },
    {
      "cell_type": "code",
      "source": [
        "str1 = \"Hello\"\n",
        "str2 = \"World\"\n",
        "\n",
        "result = str1 + \" \" + str2\n",
        "print(result)"
      ],
      "metadata": {
        "colab": {
          "base_uri": "https://localhost:8080/"
        },
        "id": "rRvBex65P6kx",
        "outputId": "9a0cff4d-1fb1-4321-e110-8e796fd68824"
      },
      "execution_count": null,
      "outputs": [
        {
          "output_type": "stream",
          "name": "stdout",
          "text": [
            "Hello World\n"
          ]
        }
      ]
    },
    {
      "cell_type": "markdown",
      "source": [],
      "metadata": {
        "id": "wQLQ9-HLuggB"
      }
    },
    {
      "cell_type": "markdown",
      "source": [
        "## Type casting\n",
        "\n",
        "> Type casting means converting one data type to another — like turning a string into an integer.\n",
        "\n"
      ],
      "metadata": {
        "id": "-Fzg6QGypY7z"
      }
    },
    {
      "cell_type": "code",
      "source": [
        "# before\n",
        "age = input(\"Enter your age: \")\n",
        "print(age + 5)\n",
        "\n",
        "# after\n",
        "age = int(input(\"Enter your age: \"))\n",
        "print(age + 5)"
      ],
      "metadata": {
        "colab": {
          "base_uri": "https://localhost:8080/"
        },
        "id": "-2BL2FycpiTL",
        "outputId": "e85768af-8b3a-4f66-f404-643a4ba128f0",
        "collapsed": true
      },
      "execution_count": null,
      "outputs": [
        {
          "output_type": "stream",
          "name": "stdout",
          "text": [
            "Enter your age: 28\n",
            "33\n"
          ]
        }
      ]
    },
    {
      "cell_type": "markdown",
      "source": [
        "## Assignment Operators\n",
        "\n",
        "> Assignment operators are used to assign values to variables. Python also supports compound assignment operators to combine operations like addition, subtraction, multiplication, etc., with assignment.\n",
        "\n"
      ],
      "metadata": {
        "id": "9TYkK2XQp_Cn"
      }
    },
    {
      "cell_type": "markdown",
      "source": [
        "| Operator | Meaning                   | Example   | Equivalent To |\n",
        "| -------- | ------------------------- | --------- | ------------- |\n",
        "| `=`      | Assign                    | `x = 5`   | —             |\n",
        "| `+=`     | Add and Assign            | `x += 3`  | `x = x + 3`   |\n",
        "| `-=`     | Subtract and Assign       | `x -= 2`  | `x = x - 2`   |\n",
        "| `*=`     | Multiply and Assign       | `x *= 4`  | `x = x * 4`   |\n",
        "| `/=`     | Divide and Assign (float) | `x /= 2`  | `x = x / 2`   |\n",
        "| `//=`    | Floor Divide and Assign   | `x //= 2` | `x = x // 2`  |\n",
        "| `%=`     | Modulus and Assign        | `x %= 3`  | `x = x % 3`   |\n",
        "| `**=`    | Exponent and Assign       | `x **= 2` | `x = x ** 2`  |\n",
        "\n",
        "\n",
        "> assignment operators make your code cleaner and easier to understand, especially in loops, score counters, finance calculations, and so on.\n",
        "\n"
      ],
      "metadata": {
        "id": "mbMEu3xbqERj"
      }
    },
    {
      "cell_type": "code",
      "source": [
        "score = 0\n",
        "score += 10  # Player scores 10 points\n",
        "score += 5   # Player scores 5 more points\n",
        "score -= 3   # Player loses 3 points\n",
        "print(\"Final Score:\", score)"
      ],
      "metadata": {
        "id": "uIxMYPc0qRc9",
        "colab": {
          "base_uri": "https://localhost:8080/"
        },
        "outputId": "4f9d9544-32d6-4d81-9629-fdd37db3b340"
      },
      "execution_count": null,
      "outputs": [
        {
          "output_type": "stream",
          "name": "stdout",
          "text": [
            "Final Score: 12\n"
          ]
        }
      ]
    },
    {
      "cell_type": "markdown",
      "source": [
        "## Identity Operators\n",
        "\n",
        "> Identity operators are used to compare the memory locations of two objects.\n",
        "\n"
      ],
      "metadata": {
        "id": "7fHqkrfuqfHj"
      }
    },
    {
      "cell_type": "markdown",
      "source": [
        "| Operator | Meaning                                 | Returns          |\n",
        "| -------- | --------------------------------------- | ---------------- |\n",
        "| `is`     | True if both refer to same object       | `True` / `False` |\n",
        "| `is not` | True if they refer to different objects | `True` / `False` |\n"
      ],
      "metadata": {
        "id": "sb7zQZxcqvCo"
      }
    },
    {
      "cell_type": "code",
      "source": [
        "# Identity operator example\n",
        "a = [1, 2, 3]\n",
        "b = a\n",
        "c = [1, 2, 3]\n",
        "\n",
        "print(a is b)      # True (same object in memory)\n",
        "print(a is c)      # False (different objects, same content)\n",
        "print(a == c)      # True (values are equal)\n",
        "\n",
        "print(a is not b)  # False\n",
        "print(a is not c)  # True"
      ],
      "metadata": {
        "id": "CZVFkwBiqwlx",
        "colab": {
          "base_uri": "https://localhost:8080/"
        },
        "outputId": "431a360d-0fc6-415c-8847-52ce8801a9d7"
      },
      "execution_count": null,
      "outputs": [
        {
          "output_type": "stream",
          "name": "stdout",
          "text": [
            "True\n",
            "False\n",
            "True\n",
            "False\n",
            "True\n"
          ]
        }
      ]
    },
    {
      "cell_type": "markdown",
      "source": [
        "## Membership Operators\n",
        "\n",
        "> Membership operators are used to check whether a value or variable exists within a sequence or collection (like strings, lists, tuples, sets, or dictionaries).\n",
        "\n"
      ],
      "metadata": {
        "id": "BKzj_lkqrbh5"
      }
    },
    {
      "cell_type": "markdown",
      "source": [
        "| Operator | Description                                  | Example              | Returns |\n",
        "| -------- | -------------------------------------------- | -------------------- | ------- |\n",
        "| `in`     | Returns `True` if a value exists             | `\"a\" in \"apple\"`     | `True`  |\n",
        "| `not in` | Returns `True` if a value does **not** exist | `\"x\" not in \"apple\"` | `True`  |\n"
      ],
      "metadata": {
        "id": "ZscRwUOtrjJJ"
      }
    },
    {
      "cell_type": "code",
      "source": [
        "# String example\n",
        "word = \"hello\"\n",
        "print(\"e\" in word)      # True\n",
        "print(\"z\" not in word)  # True\n",
        "\n",
        "# List example\n",
        "fruits = [\"apple\", \"banana\", \"cherry\"]\n",
        "print(\"banana\" in fruits)     # True\n",
        "print(\"grape\" not in fruits)  # True\n",
        "\n",
        "# Tuple example\n",
        "numbers = (1, 2, 3, 4)\n",
        "print(3 in numbers)      # True\n",
        "print(5 not in numbers)  # True\n",
        "\n",
        "# Set example\n",
        "colors = {\"red\", \"blue\", \"green\"}\n",
        "print(\"red\" in colors)      # True\n",
        "print(\"yellow\" not in colors)  # True\n",
        "\n",
        "# Dictionary example (checks keys only)\n",
        "person = {\"name\": \"Alice\", \"age\": 30}\n",
        "print(\"name\" in person)      # True\n",
        "print(\"Alice\" in person)     # False"
      ],
      "metadata": {
        "id": "v4Fkpai6rk7S"
      },
      "execution_count": null,
      "outputs": []
    },
    {
      "cell_type": "markdown",
      "source": [
        "## Conditional Statements\n",
        "\n",
        "> Conditional statements allow us to make decisions in code. Based on whether a condition is True or False, we can execute specific blocks of code.\n",
        "\n"
      ],
      "metadata": {
        "id": "7Z8bWGvgr99k"
      }
    },
    {
      "cell_type": "code",
      "source": [
        "# if statement\n",
        "age = 20\n",
        "if age >= 18:\n",
        "    print(\"You are eligible to vote.\")\n",
        "\n",
        "# if-else statement\n",
        "temperature = 30\n",
        "if temperature > 35:\n",
        "    print(\"It's too hot.\")\n",
        "else:\n",
        "    print(\"Weather is fine.\")\n",
        "\n",
        "# if-elif-else statement\n",
        "marks = 85\n",
        "if marks >= 90:\n",
        "    print(\"Grade: A\")\n",
        "elif marks >= 75:\n",
        "    print(\"Grade: B\")\n",
        "elif marks >= 60:\n",
        "    print(\"Grade: C\")\n",
        "else:\n",
        "    print(\"Grade: D\")"
      ],
      "metadata": {
        "id": "0zZLF0X6sCx7",
        "colab": {
          "base_uri": "https://localhost:8080/"
        },
        "outputId": "024c59bc-fbfb-4bf9-fcbc-c674cbed1e04"
      },
      "execution_count": null,
      "outputs": [
        {
          "output_type": "stream",
          "name": "stdout",
          "text": [
            "You are eligible to vote.\n",
            "Weather is fine.\n",
            "Grade: B\n"
          ]
        }
      ]
    },
    {
      "cell_type": "markdown",
      "source": [
        "## String Manipulation\n",
        "\n",
        "> String manipulation refers to the process of changing, parsing, analyzing, or modifying strings using built-in Python methods.\n",
        "\n"
      ],
      "metadata": {
        "id": "P4j_PoAxsgmC"
      }
    },
    {
      "cell_type": "markdown",
      "source": [
        "### Indexing\n",
        "\n",
        "> Indexing starts from 0. Negative indexing starts from the end.\n",
        "\n"
      ],
      "metadata": {
        "id": "d6aySpe7sp8c"
      }
    },
    {
      "cell_type": "code",
      "source": [
        "text = \"Python\"\n",
        "print(text[0])  # Output: P\n",
        "print(text[-1]) # Output: n"
      ],
      "metadata": {
        "id": "3BGH5yJ4sv7g",
        "colab": {
          "base_uri": "https://localhost:8080/"
        },
        "outputId": "d837ef07-e3a3-49fc-e08f-e8e89c4015c1"
      },
      "execution_count": null,
      "outputs": [
        {
          "output_type": "stream",
          "name": "stdout",
          "text": [
            "P\n",
            "n\n"
          ]
        }
      ]
    },
    {
      "cell_type": "markdown",
      "source": [
        "### Slicing Strings\n",
        "\n",
        "> Slicing helps extract a substring using [start:end]. The end index is not included.\n",
        "\n"
      ],
      "metadata": {
        "id": "PLGpQxxcsxk1"
      }
    },
    {
      "cell_type": "code",
      "source": [
        "text = \"Artificial Intelligence\"\n",
        "print(text[0:10])   # Output: Artificial\n",
        "print(text[11:])    # Output: Intelligence\n",
        "print(text[:10])    # Output: Artificial"
      ],
      "metadata": {
        "id": "LvzWEChws7m0",
        "colab": {
          "base_uri": "https://localhost:8080/"
        },
        "outputId": "95a6312e-a6a4-4d18-bbc4-8f90515bb920"
      },
      "execution_count": null,
      "outputs": [
        {
          "output_type": "stream",
          "name": "stdout",
          "text": [
            "Artificial\n",
            "Intelligence\n",
            "Artificial\n"
          ]
        }
      ]
    },
    {
      "cell_type": "markdown",
      "source": [
        "## Classes\n",
        "\n",
        "> Classes are blueprints for creating objects. Objects represent real-world entities like a car, student, or robot, and each object can have its own attributes (data) and methods (functions).\n",
        "\n",
        "> Objects are instances of classes. They encapsulate data for the class and can access the class's methods.\n",
        "\n",
        "> Here, __init__ is the constructor. It gets called automatically when you create an object. The self keyword refers to the object itself.\n",
        "\n"
      ],
      "metadata": {
        "id": "9VyLuNaWu5C4"
      }
    },
    {
      "cell_type": "code",
      "source": [
        "class Robot: # This line defines a new class called Robot. Think of a class as a blueprint — like the design of a robot. It tells us what the robot can do and what data it holds.\n",
        "\n",
        "    def __init__(self, name):\n",
        "        self.name = name\n",
        "        self.position = 0\n",
        "\n",
        "    def move(self, steps): # This is a method named move. We give it a number of steps, and it adds those steps to the robot’s current position.\n",
        "        self.position += steps\n",
        "        print(f\"{self.name} moved to position {self.position}\")"
      ],
      "metadata": {
        "id": "PciHjPvXvDaL"
      },
      "execution_count": null,
      "outputs": []
    },
    {
      "cell_type": "code",
      "source": [
        "r1 = Robot(\"Robo1\")\n",
        "r1.move(5)\n",
        "r1.move(3)"
      ],
      "metadata": {
        "colab": {
          "base_uri": "https://localhost:8080/"
        },
        "id": "ZEHSTQGWwApC",
        "outputId": "5d53a84b-a1ad-4585-894f-83116ab98302"
      },
      "execution_count": null,
      "outputs": [
        {
          "output_type": "stream",
          "name": "stdout",
          "text": [
            "Robo1 moved to position 5\n",
            "Robo1 moved to position 8\n"
          ]
        }
      ]
    },
    {
      "cell_type": "markdown",
      "source": [
        "> __init__ is a special function in Python called the constructor. It runs automatically when we create a new object.\"\n",
        "\n",
        "> \"name is a parameter we give when creating the robot. We store it in self.name, which means this robot’s own name.\"\n",
        "\n",
        "> \"self.position = 0 sets the starting position of the robot to 0\n",
        "\n",
        "> Here, we’ve defined a class Robot with a name and a position. When we create a robot object, we give it a name. The move method increases the robot’s position on a line, simulating forward movement. This is how we encapsulate data and behavior into one structure: a class.\n",
        "\n",
        "\n"
      ],
      "metadata": {
        "id": "X8pjnTIPwLJI"
      }
    },
    {
      "cell_type": "markdown",
      "source": [],
      "metadata": {
        "id": "5q8A7pAqvObK"
      }
    }
  ]
}